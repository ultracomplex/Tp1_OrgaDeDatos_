{
  "cells": [
    {
      "cell_type": "markdown",
      "metadata": {
        "id": "0LBXoc4rrpx7"
      },
      "source": [
        "# SVM"
      ]
    },
    {
      "cell_type": "code",
      "execution_count": 1,
      "metadata": {
        "id": "4H_9ai85rfMs"
      },
      "outputs": [],
      "source": [
        "from sklearn.model_selection import RandomizedSearchCV\n",
        "import pandas as pd\n",
        "import numpy as np"
      ]
    },
    {
      "cell_type": "code",
      "execution_count": 2,
      "metadata": {
        "id": "VMTEygKXtsjJ"
      },
      "outputs": [],
      "source": [
        "train_XY_url = 'https://minio-api.all.ar/orga-datos/properati_argentina_2021_train_XY_preprocesado.csv'\n",
        "df_train_so = pd.read_csv(train_XY_url)"
      ]
    },
    {
      "cell_type": "code",
      "execution_count": 3,
      "metadata": {
        "id": "nWivTx2Nzuol"
      },
      "outputs": [],
      "source": [
        "test_XY_url = 'https://minio-api.all.ar/orga-datos/properati_argentina_2021_test_XY_preprocesado.csv'\n",
        "df_test_XY = pd.read_csv(test_XY_url)"
      ]
    },
    {
      "cell_type": "code",
      "execution_count": 4,
      "metadata": {
        "id": "xB9RYLECtvgM"
      },
      "outputs": [],
      "source": [
        "train_outlier_XY_url = 'https://minio-api.all.ar/orga-datos/properati_argentina_2021_train_XY_preprocesado_y_outlier.csv'\n",
        "df_train_XY = pd.read_csv(train_outlier_XY_url)"
      ]
    },
    {
      "cell_type": "code",
      "execution_count": 5,
      "metadata": {
        "id": "1QvLvMWKLBl-"
      },
      "outputs": [],
      "source": [
        "df_train_XY = df_train_XY.drop(['año_publicacion', 'property_coverage_percent'], axis=1)"
      ]
    },
    {
      "cell_type": "code",
      "execution_count": 6,
      "metadata": {
        "id": "N96eaHpBxkdx"
      },
      "outputs": [],
      "source": [
        "df_validation_XY = df_train_XY.sample(frac=0.2)\n",
        "df_validation_XY_copy = df_validation_XY.copy()\n",
        "df_train_XY_copy = df_train_XY.copy()\n",
        "df_test_XY_copy = df_test_XY.copy()"
      ]
    },
    {
      "cell_type": "code",
      "execution_count": 7,
      "metadata": {
        "id": "84VPp6a_uA_7"
      },
      "outputs": [],
      "source": [
        "RANDOM_STATE = 3"
      ]
    },
    {
      "cell_type": "markdown",
      "metadata": {
        "id": "DVxRGCzxfLOq"
      },
      "source": [
        "## Preprocesamiento plus"
      ]
    },
    {
      "cell_type": "code",
      "execution_count": 8,
      "metadata": {
        "id": "H3AcBCAHxIWl"
      },
      "outputs": [],
      "source": [
        "from sklearn.preprocessing import OneHotEncoder\n",
        "\n",
        "enc_language = OneHotEncoder()\n",
        "X_t = df_train_XY[['property_type']]\n",
        "X_t = enc_language.fit_transform(X_t).toarray()\n",
        "language_columns = enc_language.get_feature_names_out()\n",
        "#agrego las columnas al df_train\n",
        "df_train_XY[language_columns] = X_t\n",
        "\n",
        "df_train_XY = df_train_XY.drop(['property_type'], axis=1)\n",
        "\n",
        "#repito el mismo proceso para df_validation\n",
        "enc_language_val = OneHotEncoder()\n",
        "X_v = df_validation_XY.loc[:,['property_type']]\n",
        "X_v = enc_language_val.fit_transform(X_v).toarray()\n",
        "language_columns_val = enc_language_val.get_feature_names_out()\n",
        "df_validation_XY[language_columns_val] = X_v\n",
        "df_validation_XY = df_validation_XY.drop(['property_type'], axis=1)\n",
        "\n",
        "#repito el mismo proceso para df_test_XY\n",
        "enc_language_val = OneHotEncoder()\n",
        "X_v = df_test_XY.loc[:,['property_type']]\n",
        "X_v = enc_language_val.fit_transform(X_v).toarray()\n",
        "language_columns_val = enc_language_val.get_feature_names_out()\n",
        "df_test_XY[language_columns_val] = X_v\n",
        "df_test_XY = df_test_XY.drop(['property_type'], axis=1)\n"
      ]
    },
    {
      "cell_type": "code",
      "execution_count": 9,
      "metadata": {
        "id": "ls02-v752F_n"
      },
      "outputs": [],
      "source": [
        "df_train_XY = df_train_XY.drop(['property_title'], axis=1)\n",
        "df_validation_XY = df_validation_XY.drop(['property_title'], axis=1)\n",
        "df_test_XY = df_test_XY.drop(['property_title'], axis=1)"
      ]
    },
    {
      "cell_type": "code",
      "execution_count": 10,
      "metadata": {
        "id": "7RO1wY_q1UEx"
      },
      "outputs": [],
      "source": [
        "df_train_XY = df_train_XY.drop(['place_l3'], axis=1)\n",
        "df_validation_XY = df_validation_XY.drop(['place_l3'], axis=1)\n",
        "df_test_XY = df_test_XY.drop(['place_l3'], axis=1)"
      ]
    },
    {
      "cell_type": "code",
      "execution_count": 11,
      "metadata": {
        "id": "fyy2FT9A6ZXu"
      },
      "outputs": [],
      "source": [
        "df_train_XY = df_train_XY.drop(['start_date', 'end_date'], axis=1)\n",
        "df_validation_XY = df_validation_XY.drop(['start_date', 'end_date'], axis=1)\n",
        "df_test_XY = df_test_XY.drop(['start_date', 'end_date'], axis=1)"
      ]
    },
    {
      "cell_type": "code",
      "execution_count": 12,
      "metadata": {
        "id": "mQABleJn_kWo"
      },
      "outputs": [],
      "source": [
        "df_validation_Y = df_validation_XY['property_price']\n",
        "df_validation_X = df_validation_XY.drop(['property_price'], axis=1)\n",
        "df_train_Y = df_train_XY['property_price']\n",
        "df_train_X = df_train_XY.drop(['property_price'], axis=1)\n",
        "df_test_Y = df_test_XY['property_price']\n",
        "df_test_X = df_test_XY.drop(['property_price'], axis=1)"
      ]
    },
    {
      "cell_type": "markdown",
      "metadata": {
        "id": "h5KrgwKjevdo"
      },
      "source": [
        "## Buscamos Hiper parámetros con Normalización usamos GridSearchCV"
      ]
    },
    {
      "cell_type": "code",
      "execution_count": 13,
      "metadata": {
        "id": "2nxQ6IIPdDU5"
      },
      "outputs": [],
      "source": [
        "from sklearn.model_selection import GridSearchCV\n",
        "from sklearn.model_selection import StratifiedKFold"
      ]
    },
    {
      "cell_type": "code",
      "execution_count": 14,
      "metadata": {
        "id": "up5DhRscBCA0"
      },
      "outputs": [],
      "source": [
        "# Definir los hiperparámetros a buscar\n",
        "param_grid = {\n",
        "    'kernel': ['rbf'],\n",
        "    'C': [1, 10],\n",
        "    'epsilon': [0.1, 0.2]\n",
        "}"
      ]
    },
    {
      "cell_type": "code",
      "execution_count": 15,
      "metadata": {
        "id": "7c_VvjRqeIq8"
      },
      "outputs": [],
      "source": [
        "from sklearn.preprocessing import StandardScaler"
      ]
    },
    {
      "cell_type": "code",
      "execution_count": 16,
      "metadata": {
        "id": "KwiDwV3GePmY"
      },
      "outputs": [],
      "source": [
        "# Normalizar los datos de entrada\n",
        "scaler = StandardScaler()\n",
        "df_train_X_normalizado = scaler.fit_transform(df_train_X)\n",
        "df_validation_X_normalizado = scaler.transform(df_validation_X)\n",
        "df_test_X_normalizado = scaler.transform(df_test_X)"
      ]
    },
    {
      "cell_type": "code",
      "execution_count": 17,
      "metadata": {
        "colab": {
          "base_uri": "https://localhost:8080/"
        },
        "id": "0KUKV5CCb0ua",
        "outputId": "37cf91c0-90c6-43e6-e2e1-2d875a21bf06"
      },
      "outputs": [
        {
          "output_type": "stream",
          "name": "stdout",
          "text": [
            "Fitting 2 folds for each of 4 candidates, totalling 8 fits\n"
          ]
        },
        {
          "output_type": "stream",
          "name": "stderr",
          "text": [
            "/usr/local/lib/python3.10/dist-packages/sklearn/model_selection/_split.py:700: UserWarning: The least populated class in y has only 1 members, which is less than n_splits=2.\n",
            "  warnings.warn(\n"
          ]
        },
        {
          "output_type": "stream",
          "name": "stdout",
          "text": [
            "[CV 1/2; 1/4] START C=1, epsilon=0.1, kernel=rbf................................\n",
            "[CV 1/2; 1/4] END C=1, epsilon=0.1, kernel=rbf;, score=(train=-104489.999, test=-104178.440) total time= 2.0min\n",
            "[CV 2/2; 1/4] START C=1, epsilon=0.1, kernel=rbf................................\n",
            "[CV 2/2; 1/4] END C=1, epsilon=0.1, kernel=rbf;, score=(train=-104169.842, test=-104482.234) total time= 1.9min\n",
            "[CV 1/2; 2/4] START C=1, epsilon=0.2, kernel=rbf................................\n",
            "[CV 1/2; 2/4] END C=1, epsilon=0.2, kernel=rbf;, score=(train=-104489.999, test=-104178.440) total time= 1.9min\n",
            "[CV 2/2; 2/4] START C=1, epsilon=0.2, kernel=rbf................................\n",
            "[CV 2/2; 2/4] END C=1, epsilon=0.2, kernel=rbf;, score=(train=-104169.842, test=-104482.234) total time= 1.9min\n",
            "[CV 1/2; 3/4] START C=10, epsilon=0.1, kernel=rbf...............................\n",
            "[CV 1/2; 3/4] END C=10, epsilon=0.1, kernel=rbf;, score=(train=-92471.041, test=-92142.145) total time= 1.9min\n",
            "[CV 2/2; 3/4] START C=10, epsilon=0.1, kernel=rbf...............................\n",
            "[CV 2/2; 3/4] END C=10, epsilon=0.1, kernel=rbf;, score=(train=-92129.117, test=-92464.986) total time= 1.9min\n",
            "[CV 1/2; 4/4] START C=10, epsilon=0.2, kernel=rbf...............................\n",
            "[CV 1/2; 4/4] END C=10, epsilon=0.2, kernel=rbf;, score=(train=-92471.041, test=-92142.145) total time= 1.9min\n",
            "[CV 2/2; 4/4] START C=10, epsilon=0.2, kernel=rbf...............................\n",
            "[CV 2/2; 4/4] END C=10, epsilon=0.2, kernel=rbf;, score=(train=-92129.149, test=-92465.018) total time= 1.9min\n"
          ]
        },
        {
          "output_type": "execute_result",
          "data": {
            "text/plain": [
              "{'mean_fit_time': array([64.03024983, 62.74374497, 60.39312196, 60.93965232]),\n",
              " 'std_fit_time': array([1.78867102, 0.70056331, 0.15431762, 0.70363224]),\n",
              " 'mean_score_time': array([53.54106009, 54.0247575 , 53.68062997, 54.47880828]),\n",
              " 'std_score_time': array([0.41143835, 0.79567468, 0.04343867, 0.95107138]),\n",
              " 'param_C': masked_array(data=[1, 1, 10, 10],\n",
              "              mask=[False, False, False, False],\n",
              "        fill_value='?',\n",
              "             dtype=object),\n",
              " 'param_epsilon': masked_array(data=[0.1, 0.2, 0.1, 0.2],\n",
              "              mask=[False, False, False, False],\n",
              "        fill_value='?',\n",
              "             dtype=object),\n",
              " 'param_kernel': masked_array(data=['rbf', 'rbf', 'rbf', 'rbf'],\n",
              "              mask=[False, False, False, False],\n",
              "        fill_value='?',\n",
              "             dtype=object),\n",
              " 'params': [{'C': 1, 'epsilon': 0.1, 'kernel': 'rbf'},\n",
              "  {'C': 1, 'epsilon': 0.2, 'kernel': 'rbf'},\n",
              "  {'C': 10, 'epsilon': 0.1, 'kernel': 'rbf'},\n",
              "  {'C': 10, 'epsilon': 0.2, 'kernel': 'rbf'}],\n",
              " 'split0_test_score': array([-104178.43970188, -104178.43970188,  -92142.14488763,\n",
              "         -92142.14530211]),\n",
              " 'split1_test_score': array([-104482.23404273, -104482.23394866,  -92464.986147  ,\n",
              "         -92465.0181014 ]),\n",
              " 'mean_test_score': array([-104330.33687231, -104330.33682527,  -92303.56551732,\n",
              "         -92303.58170175]),\n",
              " 'std_test_score': array([151.89717042, 151.89712339, 161.42062968, 161.43639965]),\n",
              " 'rank_test_score': array([4, 3, 1, 2], dtype=int32),\n",
              " 'split0_train_score': array([-104489.99889517, -104489.99889517,  -92471.04065282,\n",
              "         -92471.0406587 ]),\n",
              " 'split1_train_score': array([-104169.84243557, -104169.84243851,  -92129.11745708,\n",
              "         -92129.14947835]),\n",
              " 'mean_train_score': array([-104329.92066537, -104329.92066684,  -92300.07905495,\n",
              "         -92300.09506852]),\n",
              " 'std_train_score': array([160.0782298 , 160.07822833, 170.96159787, 170.94559018])}"
            ]
          },
          "metadata": {},
          "execution_count": 17
        }
      ],
      "source": [
        "from sklearn.svm import SVR\n",
        "from sklearn.model_selection import GridSearchCV\n",
        "from sklearn.metrics import make_scorer, mean_absolute_error\n",
        "\n",
        "# Definir el modelo de SVM de regresión\n",
        "model = SVR()\n",
        "\n",
        "# Cantidad de splits para el Cross Validation\n",
        "folds = 2\n",
        "\n",
        "# Kfold estratificado\n",
        "kfoldcv = StratifiedKFold(n_splits=folds)\n",
        "\n",
        "# Métrica\n",
        "\n",
        "scorer_fn = make_scorer(mean_absolute_error, greater_is_better=False)\n",
        "\n",
        "# GridSearch CV\n",
        "gridcv = GridSearchCV(estimator=model, param_grid=param_grid, scoring=scorer_fn, cv=kfoldcv, return_train_score=True, verbose=10)\n",
        "\n",
        "# Mostrar los resultados de la búsqueda\n",
        "gridcv.fit(df_train_X_normalizado, df_train_Y)\n",
        "\n",
        "gridcv.cv_results_\n"
      ]
    },
    {
      "cell_type": "code",
      "execution_count": 18,
      "metadata": {
        "id": "5o9Li16BehVj"
      },
      "outputs": [],
      "source": [
        "best_model = gridcv.best_estimator_"
      ]
    },
    {
      "cell_type": "code",
      "execution_count": 19,
      "metadata": {
        "id": "W49RQnrn3tWS",
        "colab": {
          "base_uri": "https://localhost:8080/",
          "height": 75
        },
        "outputId": "165e145f-e9df-4a8d-cead-183bc52d2568"
      },
      "outputs": [
        {
          "output_type": "execute_result",
          "data": {
            "text/plain": [
              "SVR(C=10)"
            ],
            "text/html": [
              "<style>#sk-container-id-1 {color: black;background-color: white;}#sk-container-id-1 pre{padding: 0;}#sk-container-id-1 div.sk-toggleable {background-color: white;}#sk-container-id-1 label.sk-toggleable__label {cursor: pointer;display: block;width: 100%;margin-bottom: 0;padding: 0.3em;box-sizing: border-box;text-align: center;}#sk-container-id-1 label.sk-toggleable__label-arrow:before {content: \"▸\";float: left;margin-right: 0.25em;color: #696969;}#sk-container-id-1 label.sk-toggleable__label-arrow:hover:before {color: black;}#sk-container-id-1 div.sk-estimator:hover label.sk-toggleable__label-arrow:before {color: black;}#sk-container-id-1 div.sk-toggleable__content {max-height: 0;max-width: 0;overflow: hidden;text-align: left;background-color: #f0f8ff;}#sk-container-id-1 div.sk-toggleable__content pre {margin: 0.2em;color: black;border-radius: 0.25em;background-color: #f0f8ff;}#sk-container-id-1 input.sk-toggleable__control:checked~div.sk-toggleable__content {max-height: 200px;max-width: 100%;overflow: auto;}#sk-container-id-1 input.sk-toggleable__control:checked~label.sk-toggleable__label-arrow:before {content: \"▾\";}#sk-container-id-1 div.sk-estimator input.sk-toggleable__control:checked~label.sk-toggleable__label {background-color: #d4ebff;}#sk-container-id-1 div.sk-label input.sk-toggleable__control:checked~label.sk-toggleable__label {background-color: #d4ebff;}#sk-container-id-1 input.sk-hidden--visually {border: 0;clip: rect(1px 1px 1px 1px);clip: rect(1px, 1px, 1px, 1px);height: 1px;margin: -1px;overflow: hidden;padding: 0;position: absolute;width: 1px;}#sk-container-id-1 div.sk-estimator {font-family: monospace;background-color: #f0f8ff;border: 1px dotted black;border-radius: 0.25em;box-sizing: border-box;margin-bottom: 0.5em;}#sk-container-id-1 div.sk-estimator:hover {background-color: #d4ebff;}#sk-container-id-1 div.sk-parallel-item::after {content: \"\";width: 100%;border-bottom: 1px solid gray;flex-grow: 1;}#sk-container-id-1 div.sk-label:hover label.sk-toggleable__label {background-color: #d4ebff;}#sk-container-id-1 div.sk-serial::before {content: \"\";position: absolute;border-left: 1px solid gray;box-sizing: border-box;top: 0;bottom: 0;left: 50%;z-index: 0;}#sk-container-id-1 div.sk-serial {display: flex;flex-direction: column;align-items: center;background-color: white;padding-right: 0.2em;padding-left: 0.2em;position: relative;}#sk-container-id-1 div.sk-item {position: relative;z-index: 1;}#sk-container-id-1 div.sk-parallel {display: flex;align-items: stretch;justify-content: center;background-color: white;position: relative;}#sk-container-id-1 div.sk-item::before, #sk-container-id-1 div.sk-parallel-item::before {content: \"\";position: absolute;border-left: 1px solid gray;box-sizing: border-box;top: 0;bottom: 0;left: 50%;z-index: -1;}#sk-container-id-1 div.sk-parallel-item {display: flex;flex-direction: column;z-index: 1;position: relative;background-color: white;}#sk-container-id-1 div.sk-parallel-item:first-child::after {align-self: flex-end;width: 50%;}#sk-container-id-1 div.sk-parallel-item:last-child::after {align-self: flex-start;width: 50%;}#sk-container-id-1 div.sk-parallel-item:only-child::after {width: 0;}#sk-container-id-1 div.sk-dashed-wrapped {border: 1px dashed gray;margin: 0 0.4em 0.5em 0.4em;box-sizing: border-box;padding-bottom: 0.4em;background-color: white;}#sk-container-id-1 div.sk-label label {font-family: monospace;font-weight: bold;display: inline-block;line-height: 1.2em;}#sk-container-id-1 div.sk-label-container {text-align: center;}#sk-container-id-1 div.sk-container {/* jupyter's `normalize.less` sets `[hidden] { display: none; }` but bootstrap.min.css set `[hidden] { display: none !important; }` so we also need the `!important` here to be able to override the default hidden behavior on the sphinx rendered scikit-learn.org. See: https://github.com/scikit-learn/scikit-learn/issues/21755 */display: inline-block !important;position: relative;}#sk-container-id-1 div.sk-text-repr-fallback {display: none;}</style><div id=\"sk-container-id-1\" class=\"sk-top-container\"><div class=\"sk-text-repr-fallback\"><pre>SVR(C=10)</pre><b>In a Jupyter environment, please rerun this cell to show the HTML representation or trust the notebook. <br />On GitHub, the HTML representation is unable to render, please try loading this page with nbviewer.org.</b></div><div class=\"sk-container\" hidden><div class=\"sk-item\"><div class=\"sk-estimator sk-toggleable\"><input class=\"sk-toggleable__control sk-hidden--visually\" id=\"sk-estimator-id-1\" type=\"checkbox\" checked><label for=\"sk-estimator-id-1\" class=\"sk-toggleable__label sk-toggleable__label-arrow\">SVR</label><div class=\"sk-toggleable__content\"><pre>SVR(C=10)</pre></div></div></div></div></div>"
            ]
          },
          "metadata": {},
          "execution_count": 19
        }
      ],
      "source": [
        "gridcv.best_estimator_"
      ]
    },
    {
      "cell_type": "code",
      "execution_count": 22,
      "metadata": {
        "id": "uE8z7Q5a3iRq",
        "colab": {
          "base_uri": "https://localhost:8080/"
        },
        "outputId": "064aca19-95c9-4927-ebb2-7359eafa0b80"
      },
      "outputs": [
        {
          "output_type": "execute_result",
          "data": {
            "text/plain": [
              "{'C': 10, 'epsilon': 0.1, 'kernel': 'rbf'}"
            ]
          },
          "metadata": {},
          "execution_count": 22
        }
      ],
      "source": [
        "gridcv.best_params_"
      ]
    },
    {
      "cell_type": "code",
      "execution_count": 23,
      "metadata": {
        "id": "zkdlcJy4enEr"
      },
      "outputs": [],
      "source": [
        "# Realizar predicciones en el conjunto de entrenamiento\n",
        "pred_train_y = best_model.predict(df_train_X_normalizado)\n",
        "# Realizar predicciones en el conjunto de prueba con el mejor modelo\n",
        "pred_val_y = best_model.predict(df_validation_X_normalizado)"
      ]
    },
    {
      "cell_type": "code",
      "execution_count": 24,
      "metadata": {
        "id": "HAYfwpVk2JBu"
      },
      "outputs": [],
      "source": [
        "from sklearn.metrics import mean_squared_error, mean_absolute_error, explained_variance_score"
      ]
    },
    {
      "cell_type": "code",
      "execution_count": 25,
      "metadata": {
        "id": "6L_Wn1MqeqUa",
        "colab": {
          "base_uri": "https://localhost:8080/"
        },
        "outputId": "979ea8ce-bf73-457f-8e8e-31f98f81fc2e"
      },
      "outputs": [
        {
          "output_type": "stream",
          "name": "stdout",
          "text": [
            "Error cuadrático medio (MSE) - Entrenamiento: 35737017864.7711\n",
            "Error cuadrático medio (MSE) - Prueba: 35319047272.65273\n",
            "Error absoluto medio (MAE) - Entrenamiento: 85086.15818877425\n",
            "Error absoluto medio (MAE) - Prueba: 84344.6167079897\n",
            "Raíz del error cuadrático medio (RMSE) - Entrenamiento: 189042.37055425195\n",
            "Raíz del error cuadrático medio (RMSE) - Prueba: 187933.6246461839\n"
          ]
        }
      ],
      "source": [
        "# Calcular el error cuadrático medio (MSE) en los datos de entrenamiento\n",
        "mse_train = mean_squared_error(df_train_Y, pred_train_y)\n",
        "\n",
        "# Calcular el error absoluto medio (MAE) en los datos de entrenamiento\n",
        "mae_train = mean_absolute_error(df_train_Y, pred_train_y)\n",
        "\n",
        "# Calcular la raíz del error cuadrático medio (RMSE) en los datos de entrenamiento\n",
        "rmse_train = np.sqrt(mse_train)\n",
        "\n",
        "# Calcular el error cuadrático medio (MSE) en los datos de prueba\n",
        "mse_val = mean_squared_error(df_validation_Y, pred_val_y)\n",
        "\n",
        "# Calcular el error absoluto medio (MAE) en los datos de prueba\n",
        "mae_val = mean_absolute_error(df_validation_Y, pred_val_y)\n",
        "\n",
        "# Calcular la raíz del error cuadrático medio (RMSE) en los datos de prueba\n",
        "rmse_val = np.sqrt(mse_val)\n",
        "\n",
        "# Comparar los errores de entrenamiento y prueba\n",
        "print(\"Error cuadrático medio (MSE) - Entrenamiento:\", mse_train)\n",
        "print(\"Error cuadrático medio (MSE) - Prueba:\", mse_val)\n",
        "print(\"Error absoluto medio (MAE) - Entrenamiento:\", mae_train)\n",
        "print(\"Error absoluto medio (MAE) - Prueba:\", mae_val)\n",
        "print(\"Raíz del error cuadrático medio (RMSE) - Entrenamiento:\", rmse_train)\n",
        "print(\"Raíz del error cuadrático medio (RMSE) - Prueba:\", rmse_val)"
      ]
    },
    {
      "cell_type": "markdown",
      "metadata": {
        "id": "rfFJMq7NkgUb"
      },
      "source": [
        "## Probamos en test"
      ]
    },
    {
      "cell_type": "code",
      "execution_count": 26,
      "metadata": {
        "id": "LmTLL6fWkicW"
      },
      "outputs": [],
      "source": [
        "pred_test_y = best_model.predict(df_test_X_normalizado)"
      ]
    },
    {
      "cell_type": "code",
      "execution_count": 27,
      "metadata": {
        "id": "xa-PvaJalJZF",
        "colab": {
          "base_uri": "https://localhost:8080/"
        },
        "outputId": "96529708-e091-4996-c755-6e9fc22979a7"
      },
      "outputs": [
        {
          "output_type": "stream",
          "name": "stdout",
          "text": [
            "Error cuadrático medio (MSE) - Test: 35319047272.65273\n",
            "Error absoluto medio (MAE) - Test: 84344.6167079897\n",
            "Raíz del error cuadrático medio (RMSE) - Test: 187933.6246461839\n"
          ]
        }
      ],
      "source": [
        "# Calcular el error cuadrático medio (MSE) en los datos de prueba\n",
        "mse_test = mean_squared_error(df_validation_Y, pred_val_y)\n",
        "\n",
        "# Calcular el error absoluto medio (MAE) en los datos de prueba\n",
        "mae_test = mean_absolute_error(df_validation_Y, pred_val_y)\n",
        "\n",
        "# Calcular la raíz del error cuadrático medio (RMSE) en los datos de prueba\n",
        "rmse_test = np.sqrt(mse_test)\n",
        "\n",
        "# Errores test\n",
        "print(\"Error cuadrático medio (MSE) - Test:\", mse_test)\n",
        "print(\"Error absoluto medio (MAE) - Test:\", mae_test)\n",
        "print(\"Raíz del error cuadrático medio (RMSE) - Test:\", rmse_test)"
      ]
    },
    {
      "cell_type": "code",
      "execution_count": 28,
      "metadata": {
        "id": "3dRkdER6apmB"
      },
      "outputs": [],
      "source": [
        "import pickle\n",
        "\n",
        "# Guardar el modelo entrenado en un archivo\n",
        "with open('modelo_entrenado.pkl', 'wb') as file:\n",
        "    pickle.dump(best_model, file)"
      ]
    },
    {
      "cell_type": "code",
      "execution_count": 29,
      "metadata": {
        "id": "73MIAnL1azjD"
      },
      "outputs": [],
      "source": [
        "# Cargar el modelo desde el archivo\n",
        "with open('modelo_entrenado.pkl', 'rb') as file:\n",
        "    loaded_model_pickle = pickle.load(file)"
      ]
    },
    {
      "cell_type": "code",
      "execution_count": 30,
      "metadata": {
        "id": "mlEA3bO3a33e"
      },
      "outputs": [],
      "source": [
        "# Realizar predicciones en el conjunto de prueba con el modelo cargado con pickle\n",
        "pred_test_y_loaded_pickle = loaded_model_pickle.predict(df_test_X_normalizado)"
      ]
    },
    {
      "cell_type": "code",
      "execution_count": 31,
      "metadata": {
        "id": "jzpWGU2cmD6L",
        "colab": {
          "base_uri": "https://localhost:8080/"
        },
        "outputId": "a249165d-8360-4a09-91bd-9a00fd74c8cb"
      },
      "outputs": [
        {
          "output_type": "stream",
          "name": "stdout",
          "text": [
            "Error cuadrático medio (MSE) - Test: 118018429367.68002\n",
            "Error absoluto medio (MAE) - Test: 108868.08011904269\n",
            "Raíz del error cuadrático medio (RMSE) - Test: 343538.1046808054\n"
          ]
        }
      ],
      "source": [
        "# Calcular el error cuadrático medio (MSE) en los datos de entrenamiento\n",
        "mse_test_bis = mean_squared_error(df_test_Y, pred_test_y_loaded_pickle)\n",
        "\n",
        "# Calcular el error absoluto medio (MAE) en los datos de entrenamiento\n",
        "mae_test_bis = mean_absolute_error(df_test_Y, pred_test_y_loaded_pickle)\n",
        "\n",
        "# Calcular la raíz del error cuadrático medio (RMSE) en los datos de entrenamiento\n",
        "rmse_test_bis = np.sqrt(mse_test_bis)\n",
        "\n",
        "# Errores test\n",
        "print(\"Error cuadrático medio (MSE) - Test:\", mse_test_bis)\n",
        "print(\"Error absoluto medio (MAE) - Test:\", mae_test_bis)\n",
        "print(\"Raíz del error cuadrático medio (RMSE) - Test:\", rmse_test_bis)"
      ]
    }
  ],
  "metadata": {
    "accelerator": "GPU",
    "colab": {
      "collapsed_sections": [
        "DVxRGCzxfLOq"
      ],
      "gpuType": "T4",
      "provenance": []
    },
    "kernelspec": {
      "display_name": "Python 3 (ipykernel)",
      "language": "python",
      "name": "python3"
    },
    "language_info": {
      "codemirror_mode": {
        "name": "ipython",
        "version": 3
      },
      "file_extension": ".py",
      "mimetype": "text/x-python",
      "name": "python",
      "nbconvert_exporter": "python",
      "pygments_lexer": "ipython3",
      "version": "3.11.8"
    }
  },
  "nbformat": 4,
  "nbformat_minor": 0
}